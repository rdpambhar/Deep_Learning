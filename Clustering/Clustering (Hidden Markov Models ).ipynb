{
 "cells": [
  {
   "cell_type": "markdown",
   "id": "4ebaffd3",
   "metadata": {},
   "source": [
    "<a href=\"https://colab.research.google.com/github/rdpambhar/Deep_Learning/blob/main/Machine_Learning_Code%20(Tensorflow)/Clustering/Clustering%20(Hidden%20Markov%20Models%20).ipynb\" target=\"_parent\"><img src=\"https://colab.research.google.com/assets/colab-badge.svg\" alt=\"Open In Colab\"/></a>"
   ]
  },
  {
   "cell_type": "markdown",
   "id": "9893a83a",
   "metadata": {},
   "source": [
    "# Hidden Markov Models\n"
   ]
  },
  {
   "cell_type": "markdown",
   "id": "93aa2102",
   "metadata": {},
   "source": [
    "### Install library version"
   ]
  },
  {
   "cell_type": "code",
   "execution_count": 1,
   "id": "e45d33fa",
   "metadata": {},
   "outputs": [],
   "source": [
    "# %tensorflow_version 2.x  \n",
    "# this line is not required unless you are in a notebook\n",
    "# This is only for the online platform is. google colab. because mismatch the import and install library."
   ]
  },
  {
   "cell_type": "markdown",
   "id": "9ab943d3",
   "metadata": {},
   "source": [
    "### Upgrade tensorflow library"
   ]
  },
  {
   "cell_type": "code",
   "execution_count": 2,
   "id": "6d22c744",
   "metadata": {},
   "outputs": [
    {
     "name": "stdout",
     "output_type": "stream",
     "text": [
      "Collecting tensorflow_probability==0.8.0rc0\n",
      "  Downloading tensorflow_probability-0.8.0rc0-py2.py3-none-any.whl (2.5 MB)\n",
      "Requirement already satisfied: numpy>=1.13.3 in c:\\users\\rop65\\anaconda3\\lib\\site-packages (from tensorflow_probability==0.8.0rc0) (1.20.3)\n",
      "Collecting cloudpickle==1.1.1"
     ]
    },
    {
     "name": "stderr",
     "output_type": "stream",
     "text": [
      "WARNING: Ignoring invalid distribution -atplotlib (c:\\users\\rop65\\anaconda3\\lib\\site-packages)\n",
      "WARNING: Ignoring invalid distribution -atplotlib (c:\\users\\rop65\\anaconda3\\lib\\site-packages)\n",
      "WARNING: Ignoring invalid distribution -atplotlib (c:\\users\\rop65\\anaconda3\\lib\\site-packages)\n",
      "ERROR: pip's dependency resolver does not currently take into account all the packages that are installed. This behaviour is the source of the following dependency conflicts.\n",
      "spyder 5.1.5 requires pyqt5<5.13, which is not installed.\n",
      "spyder 5.1.5 requires pyqtwebengine<5.13, which is not installed.\n",
      "distributed 2021.10.0 requires cloudpickle>=1.5.0, but you have cloudpickle 1.1.1 which is incompatible.\n",
      "WARNING: Ignoring invalid distribution -atplotlib (c:\\users\\rop65\\anaconda3\\lib\\site-packages)\n",
      "WARNING: Ignoring invalid distribution -atplotlib (c:\\users\\rop65\\anaconda3\\lib\\site-packages)\n"
     ]
    },
    {
     "name": "stdout",
     "output_type": "stream",
     "text": [
      "\n",
      "  Downloading cloudpickle-1.1.1-py2.py3-none-any.whl (17 kB)\n",
      "Requirement already satisfied: six>=1.10.0 in c:\\users\\rop65\\anaconda3\\lib\\site-packages (from tensorflow_probability==0.8.0rc0) (1.16.0)\n",
      "Requirement already satisfied: decorator in c:\\users\\rop65\\anaconda3\\lib\\site-packages (from tensorflow_probability==0.8.0rc0) (5.1.1)\n",
      "Installing collected packages: cloudpickle, tensorflow-probability\n",
      "Successfully installed cloudpickle-1.1.1 tensorflow-probability-0.8.0rc0\n"
     ]
    },
    {
     "name": "stderr",
     "output_type": "stream",
     "text": [
      "WARNING: Ignoring invalid distribution -atplotlib (c:\\users\\rop65\\anaconda3\\lib\\site-packages)\n"
     ]
    }
   ],
   "source": [
    "!pip install tensorflow_probability==0.8.0rc0 --user --upgrade\n",
    "# tensorflow possibility is not included in the tensorflow library."
   ]
  },
  {
   "cell_type": "markdown",
   "id": "3d284e9e",
   "metadata": {},
   "source": [
    "### Import Library"
   ]
  },
  {
   "cell_type": "code",
   "execution_count": 3,
   "id": "20643557",
   "metadata": {},
   "outputs": [
    {
     "ename": "ModuleNotFoundError",
     "evalue": "No module named 'tensorflow_probability'",
     "output_type": "error",
     "traceback": [
      "\u001b[1;31m---------------------------------------------------------------------------\u001b[0m",
      "\u001b[1;31mModuleNotFoundError\u001b[0m                       Traceback (most recent call last)",
      "\u001b[1;32m~\\AppData\\Local\\Temp/ipykernel_14376/1925839839.py\u001b[0m in \u001b[0;36m<module>\u001b[1;34m\u001b[0m\n\u001b[1;32m----> 1\u001b[1;33m \u001b[1;32mimport\u001b[0m \u001b[0mtensorflow_probability\u001b[0m \u001b[1;32mas\u001b[0m \u001b[0mtfp\u001b[0m  \u001b[1;31m# We are using a different module from tensorflow this time\u001b[0m\u001b[1;33m\u001b[0m\u001b[1;33m\u001b[0m\u001b[0m\n\u001b[0m\u001b[0;32m      2\u001b[0m \u001b[1;32mimport\u001b[0m \u001b[0mtensorflow\u001b[0m \u001b[1;32mas\u001b[0m \u001b[0mtf\u001b[0m\u001b[1;33m\u001b[0m\u001b[1;33m\u001b[0m\u001b[0m\n",
      "\u001b[1;31mModuleNotFoundError\u001b[0m: No module named 'tensorflow_probability'"
     ]
    }
   ],
   "source": [
    "import tensorflow_probability as tfp  # We are using a different module from tensorflow this time\n",
    "import tensorflow as tf"
   ]
  },
  {
   "cell_type": "markdown",
   "id": "874f661a",
   "metadata": {},
   "source": [
    "### standard devitation"
   ]
  },
  {
   "cell_type": "code",
   "execution_count": null,
   "id": "2d649f41",
   "metadata": {},
   "outputs": [],
   "source": [
    "tfd = tfp.distributions  # making a shortcut for later on\n",
    "initial_distribution = tfd.Categorical(probs=[0.2, 0.8])  # Refer to point 2 README.md\n",
    "transition_distribution = tfd.Categorical(probs=[[0.5, 0.5],\n",
    "                                                 [0.2, 0.8]])  # refer to points 3 and 4 README.md\n",
    "observation_distribution = tfd.Normal(loc=[0., 15.], scale=[5., 10.])  # refer to point 5 README.md"
   ]
  },
  {
   "cell_type": "markdown",
   "id": "b31c024a",
   "metadata": {},
   "source": [
    "### distribution variables to model our system"
   ]
  },
  {
   "cell_type": "code",
   "execution_count": null,
   "id": "4168de95",
   "metadata": {},
   "outputs": [],
   "source": [
    "model = tfd.HiddenMarkovModel(\n",
    "    initial_distribution=initial_distribution,\n",
    "    transition_distribution=transition_distribution,\n",
    "    observation_distribution=observation_distribution,\n",
    "    num_steps=7)\n",
    "#num_steps means probability estimate no. of days."
   ]
  },
  {
   "cell_type": "markdown",
   "id": "9a94a3d2",
   "metadata": {},
   "source": [
    "### expected temperatures"
   ]
  },
  {
   "cell_type": "code",
   "execution_count": null,
   "id": "855e43bf",
   "metadata": {},
   "outputs": [],
   "source": [
    "mean = model.mean()\n",
    "\n",
    "# due to the way TensorFlow works on a lower level we need to evaluate part of the graph\n",
    "# from within a session to see the value of this tensor\n",
    "\n",
    "# in the new version of tensorflow we need to use tf.compat.v1.Session() rather than just tf.Session()\n",
    "with tf.compat.v1.Session() as sess:  \n",
    "  print(mean.numpy())"
   ]
  }
 ],
 "metadata": {
  "kernelspec": {
   "display_name": "Python 3 (ipykernel)",
   "language": "python",
   "name": "python3"
  },
  "language_info": {
   "codemirror_mode": {
    "name": "ipython",
    "version": 3
   },
   "file_extension": ".py",
   "mimetype": "text/x-python",
   "name": "python",
   "nbconvert_exporter": "python",
   "pygments_lexer": "ipython3",
   "version": "3.9.7"
  }
 },
 "nbformat": 4,
 "nbformat_minor": 5
}
